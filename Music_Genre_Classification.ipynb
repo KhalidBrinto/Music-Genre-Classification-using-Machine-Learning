{
 "cells": [
  {
   "cell_type": "code",
   "execution_count": 1,
   "id": "25cd7ed2",
   "metadata": {},
   "outputs": [],
   "source": [
    "# Usual Libraries\n",
    "import pandas as pd\n",
    "import numpy as np\n",
    "import seaborn as sns\n",
    "import matplotlib.pyplot as plt\n",
    "%matplotlib inline\n",
    "import sklearn\n",
    "import joblib\n",
    "\n",
    "# Librosa (the mother of audio files)\n",
    "import librosa\n",
    "import librosa.display\n",
    "import IPython.display as ipd\n",
    "import warnings\n",
    "warnings.filterwarnings('ignore')"
   ]
  },
  {
   "cell_type": "code",
   "execution_count": 2,
   "id": "f16056e6",
   "metadata": {},
   "outputs": [
    {
     "name": "stdout",
     "output_type": "stream",
     "text": [
      "['blues', 'classical', 'country', 'disco', 'hiphop', 'jazz', 'metal', 'pop', 'reggae', 'rock']\n"
     ]
    }
   ],
   "source": [
    "import os\n",
    "general_path = 'Data'\n",
    "print(list(os.listdir(f'{general_path}/genres_original/')))"
   ]
  },
  {
   "cell_type": "markdown",
   "id": "70a4bf33",
   "metadata": {},
   "source": [
    "# Explore Audio Data"
   ]
  },
  {
   "cell_type": "code",
   "execution_count": null,
   "id": "b16c97b6",
   "metadata": {},
   "outputs": [],
   "source": [
    "# Importing 1 file\n",
    "y, sr = librosa.load(f'{general_path}/genres_original/metal/metal.00036.wav')\n",
    "\n",
    "print('y:', y, '\\n')\n",
    "print('y shape:', np.shape(y), '\\n')\n",
    "print('Sample Rate (KHz):', sr, '\\n')\n",
    "\n",
    "# Verify length of the audio\n",
    "print('Check Len of Audio:', len(y)/sr)"
   ]
  },
  {
   "cell_type": "code",
   "execution_count": null,
   "id": "7b73665b",
   "metadata": {},
   "outputs": [],
   "source": [
    "# Trim leading and trailing silence from an audio signal (silence before and after the actual audio)\n",
    "audio_file, _ = librosa.effects.trim(y)\n",
    "\n",
    "# the result is an numpy ndarray\n",
    "print('Audio File:', audio_file, '\\n')\n",
    "print('Audio File shape:', np.shape(audio_file))"
   ]
  },
  {
   "cell_type": "markdown",
   "id": "5902d473",
   "metadata": {},
   "source": [
    "### 2D Representation: Sound Waves"
   ]
  },
  {
   "cell_type": "code",
   "execution_count": null,
   "id": "cdfe47bb",
   "metadata": {},
   "outputs": [],
   "source": [
    "plt.figure(figsize = (16, 6))\n",
    "librosa.display.waveshow(y = audio_file, sr = sr, color = \"#A300F9\")\n",
    "plt.title(\"Sound Waves in Metal 36\", fontsize = 23)"
   ]
  },
  {
   "cell_type": "markdown",
   "id": "37e38d0a",
   "metadata": {},
   "source": [
    "### Fourier Transform"
   ]
  },
  {
   "cell_type": "code",
   "execution_count": null,
   "id": "eeca44ec",
   "metadata": {},
   "outputs": [],
   "source": [
    "# Default FFT window size\n",
    "n_fft = 2048 # FFT window size\n",
    "hop_length = 512 # number audio of frames between STFT columns (looks like a good default)\n",
    "\n",
    "# Short-time Fourier transform (STFT)\n",
    "D = np.abs(librosa.stft(audio_file, n_fft = n_fft, hop_length = hop_length))\n",
    "\n",
    "print('Shape of D object:', np.shape(D))"
   ]
  },
  {
   "cell_type": "code",
   "execution_count": null,
   "id": "ee95aa79",
   "metadata": {},
   "outputs": [],
   "source": [
    "plt.figure(figsize = (16, 6))\n",
    "plt.plot(D);"
   ]
  },
  {
   "cell_type": "markdown",
   "id": "0e10c6e8",
   "metadata": {},
   "source": [
    "### Spectogram"
   ]
  },
  {
   "cell_type": "code",
   "execution_count": null,
   "id": "8f999c96",
   "metadata": {},
   "outputs": [],
   "source": [
    "# Convert an amplitude spectrogram to Decibels-scaled spectrogram.\n",
    "DB = librosa.amplitude_to_db(D, ref = np.max)\n",
    "\n",
    "# Creating the Spectogram\n",
    "plt.figure(figsize = (16, 6))\n",
    "librosa.display.specshow(DB, sr = sr, hop_length = hop_length, x_axis = 'time', y_axis = 'log', cmap = 'cool')\n",
    "plt.colorbar();"
   ]
  },
  {
   "cell_type": "markdown",
   "id": "b246ce1b",
   "metadata": {},
   "source": [
    "#### Mel Spectrogram"
   ]
  },
  {
   "cell_type": "code",
   "execution_count": null,
   "id": "1080c052",
   "metadata": {},
   "outputs": [],
   "source": [
    "y, sr = librosa.load(f'{general_path}/genres_original/metal/metal.00036.wav')\n",
    "y, _ = librosa.effects.trim(y)\n",
    "\n",
    "S = librosa.feature.melspectrogram(y=y, sr=sr)\n",
    "S_DB = librosa.amplitude_to_db(S, ref=np.max)\n",
    "plt.figure(figsize = (16, 6))\n",
    "librosa.display.specshow(S_DB, sr=sr, hop_length=hop_length, x_axis = 'time', y_axis = 'log', cmap = 'cool')\n",
    "plt.colorbar()\n",
    "plt.title(\"Metal Mel Spectrogram\", fontsize = 23)"
   ]
  },
  {
   "cell_type": "code",
   "execution_count": null,
   "id": "671f6dbd",
   "metadata": {},
   "outputs": [],
   "source": [
    "y, sr = librosa.load(f'{general_path}/genres_original/classical/classical.00036.wav')\n",
    "y, _ = librosa.effects.trim(y)\n",
    "\n",
    "\n",
    "S = librosa.feature.melspectrogram(y=y, sr=sr)\n",
    "S_DB = librosa.amplitude_to_db(S, ref=np.max)\n",
    "plt.figure(figsize = (16, 6))\n",
    "librosa.display.specshow(S_DB, sr=sr, hop_length=hop_length, x_axis = 'time', y_axis = 'log',\n",
    "                        cmap = 'cool');\n",
    "plt.colorbar();\n",
    "plt.title(\"Classical Mel Spectrogram\", fontsize = 23);"
   ]
  },
  {
   "cell_type": "markdown",
   "id": "9b49cee3",
   "metadata": {},
   "source": [
    "# Audio Features"
   ]
  },
  {
   "cell_type": "markdown",
   "id": "79553106",
   "metadata": {},
   "source": [
    "#### Zero Crossing Rate\n",
    "* the rate at which the signal changes from positive to negative or back."
   ]
  },
  {
   "cell_type": "code",
   "execution_count": null,
   "id": "51eb95e4",
   "metadata": {},
   "outputs": [],
   "source": [
    "# Total zero_crossings in our 1 song\n",
    "zero_crossings = librosa.zero_crossings(audio_file, pad=False)\n",
    "print(sum(zero_crossings))"
   ]
  },
  {
   "cell_type": "markdown",
   "id": "d2161330",
   "metadata": {},
   "source": [
    "#### Harmonics and Perceptrual\n",
    "- Harmonics are characteristichs that human years can't distinguish (represents the sound color)\n",
    "- Perceptrual understanding shock wave represents the sound rhythm and emotion"
   ]
  },
  {
   "cell_type": "code",
   "execution_count": null,
   "id": "5040b5a2",
   "metadata": {},
   "outputs": [],
   "source": [
    "y_harm, y_perc = librosa.effects.hpss(audio_file)\n",
    "\n",
    "plt.figure(figsize = (16, 6))\n",
    "plt.plot(y_harm, color = '#A300F9');\n",
    "plt.plot(y_perc, color = '#FFB100');"
   ]
  },
  {
   "cell_type": "markdown",
   "id": "e095fed9",
   "metadata": {},
   "source": [
    "#### Tempo BMP (beats per minute)\n",
    "- Dynamic programming beat tracker."
   ]
  },
  {
   "cell_type": "code",
   "execution_count": null,
   "id": "ae5ae509",
   "metadata": {},
   "outputs": [],
   "source": [
    "tempo, _ = librosa.beat.beat_track(y=y, sr = sr)\n",
    "tempo"
   ]
  },
  {
   "cell_type": "markdown",
   "id": "7c8e1285",
   "metadata": {},
   "source": [
    "#### Spectral Centroid\n",
    "- indicates where the ”centre of mass” for a sound is located and is calculated as the weighted mean of the frequencies present in the sound."
   ]
  },
  {
   "cell_type": "code",
   "execution_count": null,
   "id": "b0201ee1",
   "metadata": {},
   "outputs": [],
   "source": [
    "# Calculate the Spectral Centroids\n",
    "spectral_centroids = librosa.feature.spectral_centroid(y=audio_file, sr=sr)[0]\n",
    "\n",
    "# Shape is a vector\n",
    "print('Centroids:', spectral_centroids, '\\n')\n",
    "print('Shape of Spectral Centroids:', spectral_centroids.shape, '\\n')\n",
    "\n",
    "# Computing the time variable for visualization\n",
    "frames = range(len(spectral_centroids))\n",
    "\n",
    "# Converts frame counts to time (seconds)\n",
    "t = librosa.frames_to_time(frames)\n",
    "\n",
    "print('frames:', frames, '\\n')\n",
    "print('t:', t)\n",
    "\n",
    "# Function that normalizes the Sound Data\n",
    "def normalize(x, axis=0):\n",
    "    return sklearn.preprocessing.minmax_scale(x, axis=axis)"
   ]
  },
  {
   "cell_type": "code",
   "execution_count": null,
   "id": "1cedc7f1",
   "metadata": {},
   "outputs": [],
   "source": [
    "#Plotting the Spectral Centroid along the waveform\n",
    "plt.figure(figsize = (16, 6))\n",
    "librosa.display.waveshow(y=audio_file, sr=sr, alpha=0.4, color = '#A300F9')\n",
    "plt.plot(t, normalize(spectral_centroids), color='#FFB100')"
   ]
  },
  {
   "cell_type": "markdown",
   "id": "04560125",
   "metadata": {},
   "source": [
    "#### Spectral Rolloff\n",
    "- is a measure of the shape of the signal. It represents the frequency below which a specified percentage of the total spectral energy, e.g. 85%, lies"
   ]
  },
  {
   "cell_type": "code",
   "execution_count": null,
   "id": "06bb0514",
   "metadata": {},
   "outputs": [],
   "source": [
    "# Spectral RollOff Vector\n",
    "spectral_rolloff = librosa.feature.spectral_rolloff(y=audio_file, sr=sr)[0]\n",
    "\n",
    "# The plot\n",
    "plt.figure(figsize = (16, 6))\n",
    "librosa.display.waveshow(audio_file, sr=sr, alpha=0.4, color = '#A300F9')\n",
    "plt.plot(t, normalize(spectral_rolloff), color='#FFB100')"
   ]
  },
  {
   "cell_type": "markdown",
   "id": "b1046ba9",
   "metadata": {},
   "source": [
    "#### Mel-Frequency Cepstral Coefficients:\n",
    "- The Mel frequency cepstral coefficients (MFCCs) of a signal are a small set of features (usually about 10–20) which concisely describe the overall shape of a spectral envelope. It models the characteristics of the human voice."
   ]
  },
  {
   "cell_type": "code",
   "execution_count": null,
   "id": "5dad9025",
   "metadata": {},
   "outputs": [],
   "source": [
    "mfccs = librosa.feature.mfcc(y=audio_file, sr=sr)\n",
    "print('mfccs shape:', mfccs.shape)\n",
    "\n",
    "#Displaying  the MFCCs:\n",
    "plt.figure(figsize = (16, 6))\n",
    "librosa.display.specshow(mfccs, sr=sr, x_axis='time', cmap = 'cool')"
   ]
  },
  {
   "cell_type": "code",
   "execution_count": null,
   "id": "706f1139",
   "metadata": {},
   "outputs": [],
   "source": [
    "# Perform Feature Scaling\n",
    "mfccs = sklearn.preprocessing.scale(mfccs, axis=1)\n",
    "print('Mean:', mfccs.mean(), '\\n')\n",
    "print('Var:', mfccs.var())\n",
    "\n",
    "plt.figure(figsize = (16, 6))\n",
    "librosa.display.specshow(mfccs, sr=sr, x_axis='time', cmap = 'cool');"
   ]
  },
  {
   "cell_type": "markdown",
   "id": "a144e451",
   "metadata": {},
   "source": [
    "#### Chroma Frequencies\n",
    "- Chroma features are an interesting and powerful representation for music audio in which the entire spectrum is projected onto 12 bins representing the 12 distinct semitones (or chroma) of the musical octave."
   ]
  },
  {
   "cell_type": "code",
   "execution_count": null,
   "id": "3beaec15",
   "metadata": {},
   "outputs": [],
   "source": [
    "# Increase or decrease hop_length to change how granular you want your data to be\n",
    "hop_length = 5000\n",
    "\n",
    "# Chromogram\n",
    "chromagram = librosa.feature.chroma_stft(y=audio_file, sr=sr, hop_length=hop_length)\n",
    "print('Chromogram shape:', chromagram.shape)\n",
    "\n",
    "plt.figure(figsize=(16, 6))\n",
    "librosa.display.specshow(chromagram, x_axis='time', y_axis='chroma', hop_length=hop_length, cmap='coolwarm');"
   ]
  },
  {
   "cell_type": "markdown",
   "id": "35e8703e",
   "metadata": {},
   "source": [
    "# EDA\n",
    "EDA is going to be performed on the features_30_sec.csv. This file contains the mean and variance for each audio file fo the features analysed above.\n",
    "\n",
    "So, the table has a final of 1000 rows (10 genrex x 100 audio files) and 60 features (dimensionalities)."
   ]
  },
  {
   "cell_type": "code",
   "execution_count": 3,
   "id": "0588cbb8",
   "metadata": {},
   "outputs": [
    {
     "data": {
      "text/html": [
       "<div>\n",
       "<style scoped>\n",
       "    .dataframe tbody tr th:only-of-type {\n",
       "        vertical-align: middle;\n",
       "    }\n",
       "\n",
       "    .dataframe tbody tr th {\n",
       "        vertical-align: top;\n",
       "    }\n",
       "\n",
       "    .dataframe thead th {\n",
       "        text-align: right;\n",
       "    }\n",
       "</style>\n",
       "<table border=\"1\" class=\"dataframe\">\n",
       "  <thead>\n",
       "    <tr style=\"text-align: right;\">\n",
       "      <th></th>\n",
       "      <th>filename</th>\n",
       "      <th>length</th>\n",
       "      <th>chroma_stft_mean</th>\n",
       "      <th>chroma_stft_var</th>\n",
       "      <th>rms_mean</th>\n",
       "      <th>rms_var</th>\n",
       "      <th>spectral_centroid_mean</th>\n",
       "      <th>spectral_centroid_var</th>\n",
       "      <th>spectral_bandwidth_mean</th>\n",
       "      <th>spectral_bandwidth_var</th>\n",
       "      <th>...</th>\n",
       "      <th>mfcc16_var</th>\n",
       "      <th>mfcc17_mean</th>\n",
       "      <th>mfcc17_var</th>\n",
       "      <th>mfcc18_mean</th>\n",
       "      <th>mfcc18_var</th>\n",
       "      <th>mfcc19_mean</th>\n",
       "      <th>mfcc19_var</th>\n",
       "      <th>mfcc20_mean</th>\n",
       "      <th>mfcc20_var</th>\n",
       "      <th>label</th>\n",
       "    </tr>\n",
       "  </thead>\n",
       "  <tbody>\n",
       "    <tr>\n",
       "      <th>0</th>\n",
       "      <td>blues.00000.wav</td>\n",
       "      <td>661794</td>\n",
       "      <td>0.350088</td>\n",
       "      <td>0.088757</td>\n",
       "      <td>0.130228</td>\n",
       "      <td>0.002827</td>\n",
       "      <td>1784.165850</td>\n",
       "      <td>129774.064525</td>\n",
       "      <td>2002.449060</td>\n",
       "      <td>85882.761315</td>\n",
       "      <td>...</td>\n",
       "      <td>52.420910</td>\n",
       "      <td>-1.690215</td>\n",
       "      <td>36.524071</td>\n",
       "      <td>-0.408979</td>\n",
       "      <td>41.597103</td>\n",
       "      <td>-2.303523</td>\n",
       "      <td>55.062923</td>\n",
       "      <td>1.221291</td>\n",
       "      <td>46.936035</td>\n",
       "      <td>blues</td>\n",
       "    </tr>\n",
       "    <tr>\n",
       "      <th>1</th>\n",
       "      <td>blues.00001.wav</td>\n",
       "      <td>661794</td>\n",
       "      <td>0.340914</td>\n",
       "      <td>0.094980</td>\n",
       "      <td>0.095948</td>\n",
       "      <td>0.002373</td>\n",
       "      <td>1530.176679</td>\n",
       "      <td>375850.073649</td>\n",
       "      <td>2039.036516</td>\n",
       "      <td>213843.755497</td>\n",
       "      <td>...</td>\n",
       "      <td>55.356403</td>\n",
       "      <td>-0.731125</td>\n",
       "      <td>60.314529</td>\n",
       "      <td>0.295073</td>\n",
       "      <td>48.120598</td>\n",
       "      <td>-0.283518</td>\n",
       "      <td>51.106190</td>\n",
       "      <td>0.531217</td>\n",
       "      <td>45.786282</td>\n",
       "      <td>blues</td>\n",
       "    </tr>\n",
       "    <tr>\n",
       "      <th>2</th>\n",
       "      <td>blues.00002.wav</td>\n",
       "      <td>661794</td>\n",
       "      <td>0.363637</td>\n",
       "      <td>0.085275</td>\n",
       "      <td>0.175570</td>\n",
       "      <td>0.002746</td>\n",
       "      <td>1552.811865</td>\n",
       "      <td>156467.643368</td>\n",
       "      <td>1747.702312</td>\n",
       "      <td>76254.192257</td>\n",
       "      <td>...</td>\n",
       "      <td>40.598766</td>\n",
       "      <td>-7.729093</td>\n",
       "      <td>47.639427</td>\n",
       "      <td>-1.816407</td>\n",
       "      <td>52.382141</td>\n",
       "      <td>-3.439720</td>\n",
       "      <td>46.639660</td>\n",
       "      <td>-2.231258</td>\n",
       "      <td>30.573025</td>\n",
       "      <td>blues</td>\n",
       "    </tr>\n",
       "    <tr>\n",
       "      <th>3</th>\n",
       "      <td>blues.00003.wav</td>\n",
       "      <td>661794</td>\n",
       "      <td>0.404785</td>\n",
       "      <td>0.093999</td>\n",
       "      <td>0.141093</td>\n",
       "      <td>0.006346</td>\n",
       "      <td>1070.106615</td>\n",
       "      <td>184355.942417</td>\n",
       "      <td>1596.412872</td>\n",
       "      <td>166441.494769</td>\n",
       "      <td>...</td>\n",
       "      <td>44.427753</td>\n",
       "      <td>-3.319597</td>\n",
       "      <td>50.206673</td>\n",
       "      <td>0.636965</td>\n",
       "      <td>37.319130</td>\n",
       "      <td>-0.619121</td>\n",
       "      <td>37.259739</td>\n",
       "      <td>-3.407448</td>\n",
       "      <td>31.949339</td>\n",
       "      <td>blues</td>\n",
       "    </tr>\n",
       "    <tr>\n",
       "      <th>4</th>\n",
       "      <td>blues.00004.wav</td>\n",
       "      <td>661794</td>\n",
       "      <td>0.308526</td>\n",
       "      <td>0.087841</td>\n",
       "      <td>0.091529</td>\n",
       "      <td>0.002303</td>\n",
       "      <td>1835.004266</td>\n",
       "      <td>343399.939274</td>\n",
       "      <td>1748.172116</td>\n",
       "      <td>88445.209036</td>\n",
       "      <td>...</td>\n",
       "      <td>86.099236</td>\n",
       "      <td>-5.454034</td>\n",
       "      <td>75.269707</td>\n",
       "      <td>-0.916874</td>\n",
       "      <td>53.613918</td>\n",
       "      <td>-4.404827</td>\n",
       "      <td>62.910812</td>\n",
       "      <td>-11.703234</td>\n",
       "      <td>55.195160</td>\n",
       "      <td>blues</td>\n",
       "    </tr>\n",
       "  </tbody>\n",
       "</table>\n",
       "<p>5 rows × 60 columns</p>\n",
       "</div>"
      ],
      "text/plain": [
       "          filename  length  chroma_stft_mean  chroma_stft_var  rms_mean  \\\n",
       "0  blues.00000.wav  661794          0.350088         0.088757  0.130228   \n",
       "1  blues.00001.wav  661794          0.340914         0.094980  0.095948   \n",
       "2  blues.00002.wav  661794          0.363637         0.085275  0.175570   \n",
       "3  blues.00003.wav  661794          0.404785         0.093999  0.141093   \n",
       "4  blues.00004.wav  661794          0.308526         0.087841  0.091529   \n",
       "\n",
       "    rms_var  spectral_centroid_mean  spectral_centroid_var  \\\n",
       "0  0.002827             1784.165850          129774.064525   \n",
       "1  0.002373             1530.176679          375850.073649   \n",
       "2  0.002746             1552.811865          156467.643368   \n",
       "3  0.006346             1070.106615          184355.942417   \n",
       "4  0.002303             1835.004266          343399.939274   \n",
       "\n",
       "   spectral_bandwidth_mean  spectral_bandwidth_var  ...  mfcc16_var  \\\n",
       "0              2002.449060            85882.761315  ...   52.420910   \n",
       "1              2039.036516           213843.755497  ...   55.356403   \n",
       "2              1747.702312            76254.192257  ...   40.598766   \n",
       "3              1596.412872           166441.494769  ...   44.427753   \n",
       "4              1748.172116            88445.209036  ...   86.099236   \n",
       "\n",
       "   mfcc17_mean  mfcc17_var  mfcc18_mean  mfcc18_var  mfcc19_mean  mfcc19_var  \\\n",
       "0    -1.690215   36.524071    -0.408979   41.597103    -2.303523   55.062923   \n",
       "1    -0.731125   60.314529     0.295073   48.120598    -0.283518   51.106190   \n",
       "2    -7.729093   47.639427    -1.816407   52.382141    -3.439720   46.639660   \n",
       "3    -3.319597   50.206673     0.636965   37.319130    -0.619121   37.259739   \n",
       "4    -5.454034   75.269707    -0.916874   53.613918    -4.404827   62.910812   \n",
       "\n",
       "   mfcc20_mean  mfcc20_var  label  \n",
       "0     1.221291   46.936035  blues  \n",
       "1     0.531217   45.786282  blues  \n",
       "2    -2.231258   30.573025  blues  \n",
       "3    -3.407448   31.949339  blues  \n",
       "4   -11.703234   55.195160  blues  \n",
       "\n",
       "[5 rows x 60 columns]"
      ]
     },
     "execution_count": 3,
     "metadata": {},
     "output_type": "execute_result"
    }
   ],
   "source": [
    "data = pd.read_csv(f'{general_path}/features_30_sec.csv')\n",
    "data.head()"
   ]
  },
  {
   "cell_type": "markdown",
   "id": "cc963104",
   "metadata": {},
   "source": [
    "#### Correlation Heatmap for feature means"
   ]
  },
  {
   "cell_type": "code",
   "execution_count": null,
   "id": "48b5dcdd",
   "metadata": {},
   "outputs": [],
   "source": [
    "# Computing the Correlation Matrix\n",
    "spike_cols = [col for col in data.columns if 'mean' in col]\n",
    "corr = data[spike_cols].corr()\n",
    "\n",
    "# Generate a mask for the upper triangle\n",
    "mask = np.triu(np.ones_like(corr, dtype=np.bool))\n",
    "\n",
    "# Set up the matplotlib figure\n",
    "f, ax = plt.subplots(figsize=(16, 11));\n",
    "\n",
    "# Generate a custom diverging colormap\n",
    "cmap = sns.diverging_palette(0, 25, as_cmap=True, s = 90, l = 45, n = 5)\n",
    "\n",
    "# Draw the heatmap with the mask and correct aspect ratio\n",
    "sns.heatmap(corr, mask=mask, cmap=cmap, vmax=.3, center=0,\n",
    "            square=True, linewidths=.5, cbar_kws={\"shrink\": .5})\n",
    "\n",
    "plt.title('Correlation Heatmap (for the MEAN variables)', fontsize = 25)\n",
    "plt.xticks(fontsize = 10)\n",
    "plt.yticks(fontsize = 10);\n",
    "plt.savefig(\"Corr Heatmap.jpg\")"
   ]
  },
  {
   "cell_type": "markdown",
   "id": "16a831a0",
   "metadata": {},
   "source": [
    "#### Box Plot for Genres Distributions"
   ]
  },
  {
   "cell_type": "code",
   "execution_count": null,
   "id": "7f74bbc5",
   "metadata": {},
   "outputs": [],
   "source": [
    "x = data[[\"label\", \"tempo\"]]\n",
    "\n",
    "f, ax = plt.subplots(figsize=(16, 9));\n",
    "sns.boxplot(x = \"label\", y = \"tempo\", data = x, palette = 'husl');\n",
    "\n",
    "plt.title('BPM Boxplot for Genres', fontsize = 25)\n",
    "plt.xticks(fontsize = 14)\n",
    "plt.yticks(fontsize = 10);\n",
    "plt.xlabel(\"Genre\", fontsize = 15)\n",
    "plt.ylabel(\"BPM\", fontsize = 15)\n",
    "plt.savefig(\"BPM Boxplot.jpg\")"
   ]
  },
  {
   "cell_type": "markdown",
   "id": "279e0106",
   "metadata": {},
   "source": [
    "### Principal Component Analysis - to visualize possible groups of genres\n",
    "- Normalization\n",
    "- PCA\n",
    "- The Scatter Plot"
   ]
  },
  {
   "cell_type": "code",
   "execution_count": null,
   "id": "20bbcef3",
   "metadata": {},
   "outputs": [],
   "source": [
    "from sklearn import preprocessing\n",
    "\n",
    "data = data.iloc[0:, 1:]\n",
    "y = data['label']\n",
    "X = data.loc[:, data.columns != 'label']\n",
    "\n",
    "#### NORMALIZE X ####\n",
    "cols = X.columns\n",
    "min_max_scaler = preprocessing.MinMaxScaler()\n",
    "np_scaled = min_max_scaler.fit_transform(X)\n",
    "X = pd.DataFrame(np_scaled, columns = cols)\n",
    "\n",
    "\n",
    "#### PCA 2 COMPONENTS ####\n",
    "from sklearn.decomposition import PCA\n",
    "\n",
    "pca = PCA(n_components=2)\n",
    "principalComponents = pca.fit_transform(X)\n",
    "principalDf = pd.DataFrame(data = principalComponents, columns = ['principal component 1', 'principal component 2'])\n",
    "\n",
    "# concatenate with target label\n",
    "finalDf = pd.concat([principalDf, y], axis = 1)\n",
    "\n",
    "pca.explained_variance_ratio_\n",
    "\n",
    "# 44.93 variance explained"
   ]
  },
  {
   "cell_type": "code",
   "execution_count": null,
   "id": "04ca6a93",
   "metadata": {},
   "outputs": [],
   "source": [
    "plt.figure(figsize = (16, 9))\n",
    "sns.scatterplot(x = \"principal component 1\", y = \"principal component 2\", data = finalDf, hue = \"label\", alpha = 0.7,\n",
    "               s = 100);\n",
    "\n",
    "plt.title('PCA on Genres', fontsize = 25)\n",
    "plt.xticks(fontsize = 14)\n",
    "plt.yticks(fontsize = 10);\n",
    "plt.xlabel(\"Principal Component 1\", fontsize = 15)\n",
    "plt.ylabel(\"Principal Component 2\", fontsize = 15)\n",
    "plt.savefig(\"PCA Scattert.jpg\")"
   ]
  },
  {
   "cell_type": "code",
   "execution_count": null,
   "id": "491be234",
   "metadata": {},
   "outputs": [],
   "source": [
    "finalDf"
   ]
  },
  {
   "cell_type": "markdown",
   "id": "1d7fa25d",
   "metadata": {},
   "source": [
    "# Machine Learning Classification"
   ]
  },
  {
   "cell_type": "markdown",
   "id": "2d583cf5",
   "metadata": {},
   "source": [
    "Libraries"
   ]
  },
  {
   "cell_type": "code",
   "execution_count": 4,
   "id": "93de0b82",
   "metadata": {},
   "outputs": [],
   "source": [
    "from sklearn.naive_bayes import GaussianNB\n",
    "from sklearn.linear_model import SGDClassifier, LogisticRegression\n",
    "from sklearn.neighbors import KNeighborsClassifier\n",
    "from sklearn.tree import DecisionTreeClassifier\n",
    "from sklearn.ensemble import RandomForestClassifier\n",
    "from sklearn.svm import SVC\n",
    "from sklearn.neural_network import MLPClassifier\n",
    "from xgboost import XGBClassifier, XGBRFClassifier\n",
    "from xgboost import plot_tree, plot_importance\n",
    "\n",
    "from sklearn.metrics import confusion_matrix, accuracy_score, roc_auc_score, roc_curve\n",
    "from sklearn import preprocessing\n",
    "from sklearn.model_selection import train_test_split\n",
    "from sklearn.feature_selection import RFE"
   ]
  },
  {
   "cell_type": "markdown",
   "id": "c9653deb",
   "metadata": {},
   "source": [
    "Reading in the Data form Dataframe"
   ]
  },
  {
   "cell_type": "code",
   "execution_count": 20,
   "id": "407d5865",
   "metadata": {},
   "outputs": [
    {
     "data": {
      "text/html": [
       "<div>\n",
       "<style scoped>\n",
       "    .dataframe tbody tr th:only-of-type {\n",
       "        vertical-align: middle;\n",
       "    }\n",
       "\n",
       "    .dataframe tbody tr th {\n",
       "        vertical-align: top;\n",
       "    }\n",
       "\n",
       "    .dataframe thead th {\n",
       "        text-align: right;\n",
       "    }\n",
       "</style>\n",
       "<table border=\"1\" class=\"dataframe\">\n",
       "  <thead>\n",
       "    <tr style=\"text-align: right;\">\n",
       "      <th></th>\n",
       "      <th>length</th>\n",
       "      <th>chroma_stft_mean</th>\n",
       "      <th>chroma_stft_var</th>\n",
       "      <th>rms_mean</th>\n",
       "      <th>rms_var</th>\n",
       "      <th>spectral_centroid_mean</th>\n",
       "      <th>spectral_centroid_var</th>\n",
       "      <th>spectral_bandwidth_mean</th>\n",
       "      <th>spectral_bandwidth_var</th>\n",
       "      <th>rolloff_mean</th>\n",
       "      <th>...</th>\n",
       "      <th>mfcc16_var</th>\n",
       "      <th>mfcc17_mean</th>\n",
       "      <th>mfcc17_var</th>\n",
       "      <th>mfcc18_mean</th>\n",
       "      <th>mfcc18_var</th>\n",
       "      <th>mfcc19_mean</th>\n",
       "      <th>mfcc19_var</th>\n",
       "      <th>mfcc20_mean</th>\n",
       "      <th>mfcc20_var</th>\n",
       "      <th>label</th>\n",
       "    </tr>\n",
       "  </thead>\n",
       "  <tbody>\n",
       "    <tr>\n",
       "      <th>0</th>\n",
       "      <td>66149</td>\n",
       "      <td>0.335406</td>\n",
       "      <td>0.091048</td>\n",
       "      <td>0.130405</td>\n",
       "      <td>0.003521</td>\n",
       "      <td>1773.065032</td>\n",
       "      <td>167541.630869</td>\n",
       "      <td>1972.744388</td>\n",
       "      <td>117335.771563</td>\n",
       "      <td>3714.560359</td>\n",
       "      <td>...</td>\n",
       "      <td>39.687145</td>\n",
       "      <td>-3.241280</td>\n",
       "      <td>36.488243</td>\n",
       "      <td>0.722209</td>\n",
       "      <td>38.099152</td>\n",
       "      <td>-5.050335</td>\n",
       "      <td>33.618073</td>\n",
       "      <td>-0.243027</td>\n",
       "      <td>43.771767</td>\n",
       "      <td>blues</td>\n",
       "    </tr>\n",
       "    <tr>\n",
       "      <th>1</th>\n",
       "      <td>66149</td>\n",
       "      <td>0.343065</td>\n",
       "      <td>0.086147</td>\n",
       "      <td>0.112699</td>\n",
       "      <td>0.001450</td>\n",
       "      <td>1816.693777</td>\n",
       "      <td>90525.690866</td>\n",
       "      <td>2010.051501</td>\n",
       "      <td>65671.875673</td>\n",
       "      <td>3869.682242</td>\n",
       "      <td>...</td>\n",
       "      <td>64.748276</td>\n",
       "      <td>-6.055294</td>\n",
       "      <td>40.677654</td>\n",
       "      <td>0.159015</td>\n",
       "      <td>51.264091</td>\n",
       "      <td>-2.837699</td>\n",
       "      <td>97.030830</td>\n",
       "      <td>5.784063</td>\n",
       "      <td>59.943081</td>\n",
       "      <td>blues</td>\n",
       "    </tr>\n",
       "    <tr>\n",
       "      <th>2</th>\n",
       "      <td>66149</td>\n",
       "      <td>0.346815</td>\n",
       "      <td>0.092243</td>\n",
       "      <td>0.132003</td>\n",
       "      <td>0.004620</td>\n",
       "      <td>1788.539719</td>\n",
       "      <td>111407.437613</td>\n",
       "      <td>2084.565132</td>\n",
       "      <td>75124.921716</td>\n",
       "      <td>3997.639160</td>\n",
       "      <td>...</td>\n",
       "      <td>67.336563</td>\n",
       "      <td>-1.768610</td>\n",
       "      <td>28.348579</td>\n",
       "      <td>2.378768</td>\n",
       "      <td>45.717648</td>\n",
       "      <td>-1.938424</td>\n",
       "      <td>53.050835</td>\n",
       "      <td>2.517375</td>\n",
       "      <td>33.105122</td>\n",
       "      <td>blues</td>\n",
       "    </tr>\n",
       "    <tr>\n",
       "      <th>3</th>\n",
       "      <td>66149</td>\n",
       "      <td>0.363639</td>\n",
       "      <td>0.086856</td>\n",
       "      <td>0.132565</td>\n",
       "      <td>0.002448</td>\n",
       "      <td>1655.289045</td>\n",
       "      <td>111952.284517</td>\n",
       "      <td>1960.039988</td>\n",
       "      <td>82913.639269</td>\n",
       "      <td>3568.300218</td>\n",
       "      <td>...</td>\n",
       "      <td>47.739452</td>\n",
       "      <td>-3.841155</td>\n",
       "      <td>28.337118</td>\n",
       "      <td>1.218588</td>\n",
       "      <td>34.770935</td>\n",
       "      <td>-3.580352</td>\n",
       "      <td>50.836224</td>\n",
       "      <td>3.630866</td>\n",
       "      <td>32.023678</td>\n",
       "      <td>blues</td>\n",
       "    </tr>\n",
       "    <tr>\n",
       "      <th>4</th>\n",
       "      <td>66149</td>\n",
       "      <td>0.335579</td>\n",
       "      <td>0.088129</td>\n",
       "      <td>0.143289</td>\n",
       "      <td>0.001701</td>\n",
       "      <td>1630.656199</td>\n",
       "      <td>79667.267654</td>\n",
       "      <td>1948.503884</td>\n",
       "      <td>60204.020268</td>\n",
       "      <td>3469.992864</td>\n",
       "      <td>...</td>\n",
       "      <td>30.336359</td>\n",
       "      <td>0.664582</td>\n",
       "      <td>45.880913</td>\n",
       "      <td>1.689446</td>\n",
       "      <td>51.363583</td>\n",
       "      <td>-3.392489</td>\n",
       "      <td>26.738789</td>\n",
       "      <td>0.536961</td>\n",
       "      <td>29.146694</td>\n",
       "      <td>blues</td>\n",
       "    </tr>\n",
       "  </tbody>\n",
       "</table>\n",
       "<p>5 rows × 59 columns</p>\n",
       "</div>"
      ],
      "text/plain": [
       "   length  chroma_stft_mean  chroma_stft_var  rms_mean   rms_var  \\\n",
       "0   66149          0.335406         0.091048  0.130405  0.003521   \n",
       "1   66149          0.343065         0.086147  0.112699  0.001450   \n",
       "2   66149          0.346815         0.092243  0.132003  0.004620   \n",
       "3   66149          0.363639         0.086856  0.132565  0.002448   \n",
       "4   66149          0.335579         0.088129  0.143289  0.001701   \n",
       "\n",
       "   spectral_centroid_mean  spectral_centroid_var  spectral_bandwidth_mean  \\\n",
       "0             1773.065032          167541.630869              1972.744388   \n",
       "1             1816.693777           90525.690866              2010.051501   \n",
       "2             1788.539719          111407.437613              2084.565132   \n",
       "3             1655.289045          111952.284517              1960.039988   \n",
       "4             1630.656199           79667.267654              1948.503884   \n",
       "\n",
       "   spectral_bandwidth_var  rolloff_mean  ...  mfcc16_var  mfcc17_mean  \\\n",
       "0           117335.771563   3714.560359  ...   39.687145    -3.241280   \n",
       "1            65671.875673   3869.682242  ...   64.748276    -6.055294   \n",
       "2            75124.921716   3997.639160  ...   67.336563    -1.768610   \n",
       "3            82913.639269   3568.300218  ...   47.739452    -3.841155   \n",
       "4            60204.020268   3469.992864  ...   30.336359     0.664582   \n",
       "\n",
       "   mfcc17_var  mfcc18_mean  mfcc18_var  mfcc19_mean  mfcc19_var  mfcc20_mean  \\\n",
       "0   36.488243     0.722209   38.099152    -5.050335   33.618073    -0.243027   \n",
       "1   40.677654     0.159015   51.264091    -2.837699   97.030830     5.784063   \n",
       "2   28.348579     2.378768   45.717648    -1.938424   53.050835     2.517375   \n",
       "3   28.337118     1.218588   34.770935    -3.580352   50.836224     3.630866   \n",
       "4   45.880913     1.689446   51.363583    -3.392489   26.738789     0.536961   \n",
       "\n",
       "   mfcc20_var  label  \n",
       "0   43.771767  blues  \n",
       "1   59.943081  blues  \n",
       "2   33.105122  blues  \n",
       "3   32.023678  blues  \n",
       "4   29.146694  blues  \n",
       "\n",
       "[5 rows x 59 columns]"
      ]
     },
     "execution_count": 20,
     "metadata": {},
     "output_type": "execute_result"
    }
   ],
   "source": [
    "data = pd.read_csv(f'{general_path}/features_3_sec.csv')\n",
    "data = data.iloc[0:, 1:] \n",
    "data.head()"
   ]
  },
  {
   "cell_type": "code",
   "execution_count": 21,
   "id": "0722f5ff",
   "metadata": {},
   "outputs": [],
   "source": [
    "y = data['label'] # genre variable.\n",
    "X = data.loc[:, data.columns != 'label'] #select all columns but not the labels\n",
    "\n",
    "#### NORMALIZE X ####\n",
    "\n",
    "# Normalize so everything is on the same scale. \n",
    "\n",
    "cols = X.columns\n",
    "min_max_scaler = preprocessing.MinMaxScaler()\n",
    "np_scaled = min_max_scaler.fit_transform(X)\n",
    "\n",
    "lbenc = preprocessing.LabelEncoder()\n",
    "y = lbenc.fit_transform(y)\n",
    "\n",
    "\n",
    "# new data frame with the new scaled data. \n",
    "X = pd.DataFrame(np_scaled, columns = cols)\n",
    "\n",
    "X_train, X_test, y_train, y_test = train_test_split(X, y, test_size=0.2, random_state=42, shuffle=True)\n",
    "    \n"
   ]
  },
  {
   "cell_type": "code",
   "execution_count": 22,
   "id": "9ca1475e",
   "metadata": {},
   "outputs": [],
   "source": [
    "def model_assess(model, title = \"Default\"):\n",
    "    model.fit(X_train, y_train)\n",
    "    preds = model.predict(X_test)\n",
    "    #print(confusion_matrix(y_test, preds))\n",
    "    print('Accuracy', title, ':', round(accuracy_score(y_test, preds), 5), '\\n')"
   ]
  },
  {
   "cell_type": "code",
   "execution_count": 23,
   "id": "d56d53de",
   "metadata": {},
   "outputs": [
    {
     "name": "stdout",
     "output_type": "stream",
     "text": [
      "Accuracy Naive Bayes : 0.52302 \n",
      "\n",
      "Accuracy Stochastic Gradient Descent : 0.65916 \n",
      "\n",
      "Accuracy KNN : 0.83133 \n",
      "\n",
      "Accuracy Decission trees : 0.64865 \n",
      "\n",
      "Accuracy Random Forest : 0.81682 \n",
      "\n",
      "Accuracy Support Vector Machine : 0.75876 \n",
      "\n",
      "Accuracy Logistic Regression : 0.7012 \n",
      "\n",
      "Accuracy Neural Nets : 0.67017 \n",
      "\n",
      "Accuracy Cross Gradient Booster : 0.91792 \n",
      "\n",
      "Accuracy Cross Gradient Booster (Random Forest) : 0.75676 \n",
      "\n"
     ]
    }
   ],
   "source": [
    "# Naive Bayes\n",
    "nb = GaussianNB()\n",
    "model_assess(nb, \"Naive Bayes\")\n",
    "\n",
    "# Stochastic Gradient Descent\n",
    "sgd = SGDClassifier(max_iter=5000, random_state=0)\n",
    "model_assess(sgd, \"Stochastic Gradient Descent\")\n",
    "\n",
    "# KNN\n",
    "knn = KNeighborsClassifier(n_neighbors=19)\n",
    "model_assess(knn, \"KNN\")\n",
    "\n",
    "# Decission trees\n",
    "tree = DecisionTreeClassifier()\n",
    "model_assess(tree, \"Decission trees\")\n",
    "\n",
    "# Random Forest\n",
    "rforest = RandomForestClassifier(n_estimators=1000, max_depth=10, random_state=0)\n",
    "model_assess(rforest, \"Random Forest\")\n",
    "\n",
    "# Support Vector Machine\n",
    "svm = SVC(decision_function_shape=\"ovo\")\n",
    "model_assess(svm, \"Support Vector Machine\")\n",
    "\n",
    "# Logistic Regression\n",
    "lg = LogisticRegression(random_state=0, solver='lbfgs', multi_class='multinomial')\n",
    "model_assess(lg, \"Logistic Regression\")\n",
    "\n",
    "# Neural Nets\n",
    "nn = MLPClassifier(solver='lbfgs', alpha=1e-5, hidden_layer_sizes=(5000, 10), random_state=1)\n",
    "model_assess(nn, \"Neural Nets\")\n",
    "\n",
    "# Cross Gradient Booster\n",
    "xgb = XGBClassifier(n_estimators=1000, learning_rate=0.05)\n",
    "model_assess(xgb, \"Cross Gradient Booster\")\n",
    "\n",
    "# Cross Gradient Booster (Random Forest)\n",
    "xgbrf = XGBRFClassifier(objective= 'multi:softmax')\n",
    "model_assess(xgbrf, \"Cross Gradient Booster (Random Forest)\")"
   ]
  },
  {
   "cell_type": "code",
   "execution_count": 24,
   "id": "5286a014",
   "metadata": {},
   "outputs": [
    {
     "name": "stdout",
     "output_type": "stream",
     "text": [
      "Accuracy : 0.91792 \n",
      "\n"
     ]
    },
    {
     "data": {
      "image/png": "[encoded data removed]",
      "text/plain": [
       "<Figure size 1600x900 with 2 Axes>"
      ]
     },
     "metadata": {},
     "output_type": "display_data"
    }
   ],
   "source": [
    "# Final model\n",
    "xgb = XGBClassifier(n_estimators=1000, learning_rate=0.05)\n",
    "xgb.fit(X_train, y_train)\n",
    "joblib.dump(xgb, \"model.dat\")\n",
    "model = joblib.load(\"model.dat\")\n",
    "\n",
    "preds = model.predict(X_test)\n",
    "\n",
    "print('Accuracy', ':', round(accuracy_score(y_test, preds), 5), '\\n')\n",
    "\n",
    "# Confusion Matrix\n",
    "confusion_matr = confusion_matrix(y_test, preds) #normalize = 'true'\n",
    "plt.figure(figsize = (16, 9))\n",
    "sns.heatmap(confusion_matr, cmap=\"Blues\", annot=True, \n",
    "            xticklabels = [\"blues\", \"classical\", \"country\", \"disco\", \"hiphop\", \"jazz\", \"metal\", \"pop\", \"reggae\", \"rock\"],\n",
    "           yticklabels=[\"blues\", \"classical\", \"country\", \"disco\", \"hiphop\", \"jazz\", \"metal\", \"pop\", \"reggae\", \"rock\"]);\n",
    "plt.savefig(\"conf matrix\")\n",
    "\n",
    " "
   ]
  },
  {
   "cell_type": "code",
   "execution_count": null,
   "id": "204f1b03",
   "metadata": {},
   "outputs": [],
   "source": []
  },
  {
   "cell_type": "markdown",
   "id": "65d25a73",
   "metadata": {},
   "source": [
    "# Inference"
   ]
  },
  {
   "cell_type": "code",
   "execution_count": 25,
   "id": "3be271af",
   "metadata": {},
   "outputs": [
    {
     "name": "stdout",
     "output_type": "stream",
     "text": [
      "y: [0.         0.         0.         ... 0.00792395 0.00930906 0.        ] \n",
      "\n",
      "y shape: (4903415,) \n",
      "\n",
      "Sample Rate (KHz): 22050 \n",
      "\n",
      "Check Len of Audio: 222.37709750566893\n"
     ]
    }
   ],
   "source": [
    "y, sr = librosa.load(f'{general_path}/inference/009.mp3')\n",
    "\n",
    "print('y:', y, '\\n')\n",
    "print('y shape:', np.shape(y), '\\n')\n",
    "print('Sample Rate (KHz):', sr, '\\n')\n",
    "\n",
    "# Verify length of the audio\n",
    "print('Check Len of Audio:', y.shape[0]/sr)"
   ]
  },
  {
   "cell_type": "code",
   "execution_count": 26,
   "id": "e14e03b8",
   "metadata": {},
   "outputs": [
    {
     "name": "stdout",
     "output_type": "stream",
     "text": [
      "Audio File: [-1.0041780e-10  5.9276742e-12  2.4117724e-10 ...  7.9239504e-03\n",
      "  9.3090618e-03  0.0000000e+00] \n",
      "\n",
      "Audio File shape: (4900343,)\n"
     ]
    }
   ],
   "source": [
    "# Trim leading and trailing silence from an audio signal (silence before and after the actual audio)\n",
    "audio_file, _ = librosa.effects.trim(y)\n",
    "\n",
    "# the result is an numpy ndarray\n",
    "print('Audio File:', audio_file, '\\n')\n",
    "print('Audio File shape:', np.shape(audio_file))"
   ]
  },
  {
   "cell_type": "code",
   "execution_count": null,
   "id": "1d83ae7a",
   "metadata": {},
   "outputs": [],
   "source": [
    "tempo, _ = librosa.beat.beat_track(y=audio_file, sr = sr)\n",
    "tempo"
   ]
  },
  {
   "cell_type": "code",
   "execution_count": 27,
   "id": "04947dcb",
   "metadata": {},
   "outputs": [
    {
     "data": {
      "text/plain": [
       "Text(0.5, 1.0, 'Sound Waves in audio file')"
      ]
     },
     "execution_count": 27,
     "metadata": {},
     "output_type": "execute_result"
    },
    {
     "data": {
      "image/png": "[encoded data removed]",
      "text/plain": [
       "<Figure size 1600x600 with 1 Axes>"
      ]
     },
     "metadata": {},
     "output_type": "display_data"
    }
   ],
   "source": [
    "plt.figure(figsize = (16, 6))\n",
    "librosa.display.waveshow(y = audio_file, sr = sr, color = \"#A300F9\")\n",
    "plt.title(\"Sound Waves in audio file\", fontsize = 23)"
   ]
  },
  {
   "cell_type": "code",
   "execution_count": null,
   "id": "d175784f",
   "metadata": {},
   "outputs": [],
   "source": [
    "# Default FFT window size\n",
    "n_fft = 2048 # FFT window size\n",
    "hop_length = 512 # number audio of frames between STFT columns (looks like a good default)\n",
    "\n",
    "# Short-time Fourier transform (STFT)\n",
    "D = np.abs(librosa.stft(audio_file, n_fft = n_fft, hop_length = hop_length))\n",
    "\n",
    "print('Shape of D object:', np.shape(D))\n",
    "\n",
    "plt.figure(figsize = (16, 6))\n",
    "plt.plot(D);"
   ]
  },
  {
   "cell_type": "code",
   "execution_count": null,
   "id": "27620320",
   "metadata": {},
   "outputs": [],
   "source": [
    "S = librosa.feature.melspectrogram(y=audio_file, sr=sr)\n",
    "S_DB = librosa.amplitude_to_db(S, ref=np.max)\n",
    "plt.figure(figsize = (16, 6))\n",
    "librosa.display.specshow(S_DB, sr=sr, hop_length=hop_length, x_axis = 'time', y_axis = 'log', cmap = 'cool')\n",
    "plt.colorbar()\n",
    "plt.title(\"Mel Spectrogram\", fontsize = 23)"
   ]
  },
  {
   "cell_type": "markdown",
   "id": "c768f811",
   "metadata": {},
   "source": [
    "## Feature Extraction from Audio Data"
   ]
  },
  {
   "cell_type": "code",
   "execution_count": 28,
   "id": "05451af7",
   "metadata": {},
   "outputs": [],
   "source": [
    "# Audio Features in our 1 song\n",
    "\n",
    "def get_audio_feature(audio_file_name):\n",
    "    \n",
    "    dict={}\n",
    "    y, sr = librosa.load(f'{general_path}/inference/{audio_file_name}')\n",
    "    audio_file, _ = librosa.effects.trim(y)\n",
    "    \n",
    "    zero_crossing_rate = np.array(librosa.zero_crossings(y=audio_file, pad=False))\n",
    "    zero_crossing_rate_mean = zero_crossing_rate.mean()\n",
    "    zero_crossing_rate_var = zero_crossing_rate.var()\n",
    "    \n",
    "    S = librosa.feature.melspectrogram(y=audio_file, sr=sr)\n",
    "    \n",
    "    spectral_centroids = np.array(librosa.feature.spectral_centroid(y=audio_file, sr=sr)[0])\n",
    "    spectral_centroid_mean = spectral_centroids.mean()\n",
    "    spectral_centroid_var = spectral_centroids.var()\n",
    "    \n",
    "    spectral_bandwidth = np.array(librosa.feature.spectral_bandwidth(y=audio_file, sr=sr))\n",
    "    spectral_bandwidth_mean = spectral_bandwidth.mean()\n",
    "    spectral_bandwidth_var = spectral_bandwidth.var()\n",
    "    \n",
    "    rolloff = np.array(librosa.feature.spectral_rolloff(y=audio_file, sr=sr)[0])\n",
    "    rolloff_mean = rolloff.mean()\n",
    "    rolloff_var = rolloff.var()\n",
    "    \n",
    "    chroma_stft = np.array(librosa.feature.chroma_stft(y=audio_file, sr=sr))\n",
    "    chroma_stft_mean = chroma_stft.mean()\n",
    "    chroma_stft_var = chroma_stft.var()\n",
    "    \n",
    "    rms = np.array(librosa.feature.rms(y=audio_file, S=S))\n",
    "    rms_mean = rms.mean()\n",
    "    rms_var = rms.var()\n",
    "    \n",
    "    harmony, perceptr = np.array(librosa.effects.hpss(audio_file))\n",
    "    harmony_mean = harmony.mean()\n",
    "    harmony_var = harmony.var()\n",
    "    perceptr_mean = perceptr.mean()\n",
    "    perceptr_var = perceptr.var()\n",
    "    \n",
    "    mfcc = np.array(librosa.feature.mfcc(y=audio_file, sr=sr))\n",
    "    \n",
    "    tempo, _ = librosa.beat.beat_track(y=audio_file, sr = sr)\n",
    "    \n",
    "    dict['length'] = len(audio_file)/sr\n",
    "    dict[\"chroma_stft_mean\"] =  chroma_stft_mean\n",
    "    dict[\"chroma_stft_var\"] = chroma_stft_var\n",
    "    dict[\"rms_mean\"] = rms_mean\n",
    "    dict[\"rms_var\"] = rms_var\n",
    "    dict[\"spectral_centroid_mean\"] = spectral_centroid_mean\n",
    "    dict[\"spectral_centroid_var\"] = spectral_centroid_var\n",
    "    dict[\"spectral_bandwidth_mean\"] = spectral_bandwidth_mean\n",
    "    dict[\"spectral_bandwidth_var\"] = spectral_bandwidth_var\n",
    "    dict[\"rolloff_mean\"] = rolloff_mean\n",
    "    dict[\"rolloff_var\"] = rolloff_var\n",
    "    dict[\"zero_crossing_rate_mean\"] = zero_crossing_rate_mean\n",
    "    dict[\"zero_crossing_rate_var\"] = zero_crossing_rate_var\n",
    "    dict[\"harmony_mean\"] = harmony_mean\n",
    "    dict[\"harmony_var\"] = harmony_var\n",
    "    dict[\"perceptr_mean\"] = perceptr_mean\n",
    "    dict[\"perceptr_var\"] = perceptr_var\n",
    "    dict[\"tempo\"] = tempo\n",
    "    \n",
    "    for idx, feature in enumerate(mfcc,1):\n",
    "        dict[f'mfcc{idx}_mean'] = feature.mean()\n",
    "        dict[f'mfcc{idx}_var'] = feature.var()\n",
    "        \n",
    "    return dict"
   ]
  },
  {
   "cell_type": "code",
   "execution_count": 30,
   "id": "af7efab6",
   "metadata": {},
   "outputs": [
    {
     "name": "stdout",
     "output_type": "stream",
     "text": [
      "{'length': 222.23777777777778, 'chroma_stft_mean': 0.50025415, 'chroma_stft_var': 0.08092892, 'rms_mean': 0.15064885, 'rms_var': 0.006036746, 'spectral_centroid_mean': 2825.3004119466354, 'spectral_centroid_var': 483903.3239610148, 'spectral_bandwidth_mean': 2734.3870694693937, 'spectral_bandwidth_var': 105821.79615755039, 'rolloff_mean': 6063.124319946812, 'rolloff_var': 1654916.1476158353, 'zero_crossing_rate_mean': 0.10971007539676304, 'zero_crossing_rate_var': 0.0976737747531997, 'harmony_mean': 7.091537e-06, 'harmony_var': 0.015990589, 'perceptr_mean': -5.92728e-06, 'perceptr_var': 0.007660768, 'tempo': 129.19921875, 'mfcc1_mean': -83.12703, 'mfcc1_var': 3392.3328, 'mfcc2_mean': 63.3992, 'mfcc2_var': 904.1716, 'mfcc3_mean': -5.472097, 'mfcc3_var': 469.11304, 'mfcc4_mean': 20.696943, 'mfcc4_var': 341.37885, 'mfcc5_mean': 3.7009153, 'mfcc5_var': 202.3875, 'mfcc6_mean': 14.606479, 'mfcc6_var': 173.71158, 'mfcc7_mean': 1.6766167, 'mfcc7_var': 118.16725, 'mfcc8_mean': 10.154921, 'mfcc8_var': 109.95191, 'mfcc9_mean': 2.2023664, 'mfcc9_var': 100.10242, 'mfcc10_mean': 9.052486, 'mfcc10_var': 77.39485, 'mfcc11_mean': -1.3334875, 'mfcc11_var': 86.661095, 'mfcc12_mean': 5.32916, 'mfcc12_var': 73.37484, 'mfcc13_mean': 1.83848, 'mfcc13_var': 81.140656, 'mfcc14_mean': 7.3670845, 'mfcc14_var': 79.76803, 'mfcc15_mean': 1.9858341, 'mfcc15_var': 101.61522, 'mfcc16_mean': 8.092048, 'mfcc16_var': 121.310455, 'mfcc17_mean': 1.9946598, 'mfcc17_var': 65.763535, 'mfcc18_mean': 1.0634665, 'mfcc18_var': 44.889538, 'mfcc19_mean': -2.6847234, 'mfcc19_var': 46.760883, 'mfcc20_mean': 0.09151213, 'mfcc20_var': 37.535633}\n"
     ]
    }
   ],
   "source": [
    "dum = get_audio_feature('009.mp3')\n",
    "print(dum)"
   ]
  },
  {
   "cell_type": "code",
   "execution_count": 34,
   "id": "c05eefea",
   "metadata": {},
   "outputs": [
    {
     "data": {
      "text/html": [
       "<div>\n",
       "<style scoped>\n",
       "    .dataframe tbody tr th:only-of-type {\n",
       "        vertical-align: middle;\n",
       "    }\n",
       "\n",
       "    .dataframe tbody tr th {\n",
       "        vertical-align: top;\n",
       "    }\n",
       "\n",
       "    .dataframe thead th {\n",
       "        text-align: right;\n",
       "    }\n",
       "</style>\n",
       "<table border=\"1\" class=\"dataframe\">\n",
       "  <thead>\n",
       "    <tr style=\"text-align: right;\">\n",
       "      <th></th>\n",
       "      <th>length</th>\n",
       "      <th>chroma_stft_mean</th>\n",
       "      <th>chroma_stft_var</th>\n",
       "      <th>rms_mean</th>\n",
       "      <th>rms_var</th>\n",
       "      <th>spectral_centroid_mean</th>\n",
       "      <th>spectral_centroid_var</th>\n",
       "      <th>spectral_bandwidth_mean</th>\n",
       "      <th>spectral_bandwidth_var</th>\n",
       "      <th>rolloff_mean</th>\n",
       "      <th>...</th>\n",
       "      <th>mfcc16_mean</th>\n",
       "      <th>mfcc16_var</th>\n",
       "      <th>mfcc17_mean</th>\n",
       "      <th>mfcc17_var</th>\n",
       "      <th>mfcc18_mean</th>\n",
       "      <th>mfcc18_var</th>\n",
       "      <th>mfcc19_mean</th>\n",
       "      <th>mfcc19_var</th>\n",
       "      <th>mfcc20_mean</th>\n",
       "      <th>mfcc20_var</th>\n",
       "    </tr>\n",
       "  </thead>\n",
       "  <tbody>\n",
       "    <tr>\n",
       "      <th>0</th>\n",
       "      <td>222.237778</td>\n",
       "      <td>0.500254</td>\n",
       "      <td>0.080929</td>\n",
       "      <td>0.150649</td>\n",
       "      <td>0.006037</td>\n",
       "      <td>2825.300412</td>\n",
       "      <td>483903.323961</td>\n",
       "      <td>2734.387069</td>\n",
       "      <td>105821.796158</td>\n",
       "      <td>6063.12432</td>\n",
       "      <td>...</td>\n",
       "      <td>8.092048</td>\n",
       "      <td>121.310455</td>\n",
       "      <td>1.99466</td>\n",
       "      <td>65.763535</td>\n",
       "      <td>1.063467</td>\n",
       "      <td>44.889538</td>\n",
       "      <td>-2.684723</td>\n",
       "      <td>46.760883</td>\n",
       "      <td>0.091512</td>\n",
       "      <td>37.535633</td>\n",
       "    </tr>\n",
       "  </tbody>\n",
       "</table>\n",
       "<p>1 rows × 58 columns</p>\n",
       "</div>"
      ],
      "text/plain": [
       "       length  chroma_stft_mean  chroma_stft_var  rms_mean   rms_var  \\\n",
       "0  222.237778          0.500254         0.080929  0.150649  0.006037   \n",
       "\n",
       "   spectral_centroid_mean  spectral_centroid_var  spectral_bandwidth_mean  \\\n",
       "0             2825.300412          483903.323961              2734.387069   \n",
       "\n",
       "   spectral_bandwidth_var  rolloff_mean  ...  mfcc16_mean  mfcc16_var  \\\n",
       "0           105821.796158    6063.12432  ...     8.092048  121.310455   \n",
       "\n",
       "   mfcc17_mean  mfcc17_var  mfcc18_mean  mfcc18_var  mfcc19_mean  mfcc19_var  \\\n",
       "0      1.99466   65.763535     1.063467   44.889538    -2.684723   46.760883   \n",
       "\n",
       "   mfcc20_mean  mfcc20_var  \n",
       "0     0.091512   37.535633  \n",
       "\n",
       "[1 rows x 58 columns]"
      ]
     },
     "execution_count": 34,
     "metadata": {},
     "output_type": "execute_result"
    }
   ],
   "source": [
    "df = pd.DataFrame([dum])\n",
    "df"
   ]
  },
  {
   "cell_type": "code",
   "execution_count": 36,
   "id": "df0f48f0",
   "metadata": {},
   "outputs": [
    {
     "name": "stdout",
     "output_type": "stream",
     "text": [
      "['reggae']\n"
     ]
    }
   ],
   "source": [
    "cols=df.columns\n",
    "X = df.loc[:]\n",
    "prediction = model.predict(X)\n",
    "print(lbenc.inverse_transform(prediction))"
   ]
  },
  {
   "cell_type": "code",
   "execution_count": null,
   "id": "5c64e99a",
   "metadata": {},
   "outputs": [],
   "source": []
  }
 ],
 "metadata": {
  "kernelspec": {
   "display_name": "Python 3 (ipykernel)",
   "language": "python",
   "name": "python3"
  },
  "language_info": {
   "codemirror_mode": {
    "name": "ipython",
    "version": 3
   },
   "file_extension": ".py",
   "mimetype": "text/x-python",
   "name": "python",
   "nbconvert_exporter": "python",
   "pygments_lexer": "ipython3",
   "version": "3.9.16"
  }
 },
 "nbformat": 4,
 "nbformat_minor": 5
}
